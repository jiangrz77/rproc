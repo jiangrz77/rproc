{
 "cells": [
  {
   "cell_type": "code",
   "execution_count": 2,
   "metadata": {},
   "outputs": [],
   "source": [
    "import re\n",
    "from pathlib import Path\n",
    "import numpy as np\n",
    "import pandas as pd\n",
    "import socket\n",
    "hostname = socket.gethostname()\n",
    "if hostname == 'jerome-linux':\n",
    "    datadir = Path('/home/jerome/Documents/GitHub')\n",
    "elif hostname == 'sage2020':\n",
    "    datadir = Path('/home/jiangrz/hdd23')\n",
    "alphapath = datadir/Path('Data/rproc/XFe_alpha.csv')\n",
    "betapath = datadir/Path('Data/rproc/logeps_beta.csv')\n",
    "df_alpha = pd.read_csv(alphapath)\n",
    "df_alpha = df_alpha[df_alpha != 9.99]\n",
    "df_beta = pd.read_csv(betapath)\n",
    "df_beta = df_beta[df_beta != 9.99]\n",
    "\n",
    "from solar_rs import element_list\n",
    "from starfit.star import SolAbu\n",
    "sun = SolAbu('solas09.dat', silent=True)"
   ]
  },
  {
   "cell_type": "code",
   "execution_count": 3,
   "metadata": {},
   "outputs": [],
   "source": [
    "dfel_alpha = []\n",
    "dfel_beta = []\n",
    "for colname in df_alpha.columns[3:]:\n",
    "    pattern = r'(err)?([A-Z][a-z]?)(I)*'\n",
    "    flag_err, el, state = re.match(pattern, colname).groups()\n",
    "    if (el in element_list) and (flag_err is not None):\n",
    "        dfel_alpha.append(el)\n",
    "for colname in df_beta.columns[3:]:\n",
    "    pattern = r'(err|log)_([A-Z][a-z]?)_new'\n",
    "    flag_err, el = re.match(pattern, colname).groups()\n",
    "    if (el in element_list) and (flag_err is not None):\n",
    "        dfel_beta.append(el)\n",
    "el_unique = np.unique(np.append(dfel_alpha, dfel_beta))\n",
    "el_unique = np.array(element_list)[np.in1d(element_list, el_unique)]\n",
    "el_names = ['%s'%el for el in el_unique]\n",
    "elerr_names = ['e%s'%el for el in el_unique]"
   ]
  },
  {
   "cell_type": "code",
   "execution_count": 4,
   "metadata": {},
   "outputs": [],
   "source": [
    "df_beta.loc[:, 'err_Th_new'] = np.nan\n",
    "df_beta.loc[:, 'log_Th_new'] = np.nan\n",
    "idx_0804 = df_beta.objname == 'J0804+5740.2016Nov'\n",
    "df_beta.loc[idx_0804, 'log_Th_new'] = -1.37\n",
    "df_beta.loc[idx_0804, 'err_Th_new'] = .2"
   ]
  },
  {
   "cell_type": "code",
   "execution_count": 43,
   "metadata": {},
   "outputs": [],
   "source": [
    "col_prop = ['objname', 'FeH', 'eFeH']\n",
    "df_combine = pd.DataFrame(columns=np.concatenate((col_prop, el_names, elerr_names)))\n",
    "for colname in col_prop:\n",
    "    df_combine.loc[:, colname] = df_alpha.loc[:, colname].values\n",
    "df_combine.loc[:, 'objname'] = [_.split('.')[0] for _ in df_combine.loc[:, 'objname'].values]\n",
    "el_read = []\n",
    "eel_read = []\n",
    "for colname in df_alpha.columns[3:]:\n",
    "    pattern = r'(err)?([A-Z][a-z]?)(I)*'\n",
    "    flag_err, el, state = re.match(pattern, colname).groups()\n",
    "    col_feh = df_beta.loc[:, 'FeH']\n",
    "    col_efeh = df_beta.loc[:, 'eFeH']\n",
    "    if el in el_names:\n",
    "        if (flag_err is not None) and (el not in eel_read):\n",
    "            colname_new = 'e%s'%el\n",
    "            col_elogeps = df_alpha.loc[:, colname].values\n",
    "            df_combine.loc[:, colname_new] = col_elogeps\n",
    "            eel_read.append(el)\n",
    "        elif (flag_err is None) and (el not in el_read):\n",
    "            colname_new = el\n",
    "            col_xfe = df_alpha.loc[:, colname].values\n",
    "            col_logeps = col_xfe + col_feh + sun.log_eps(el)\n",
    "            df_combine.loc[:, colname_new] = col_logeps\n",
    "            el_read = [el]\n",
    "for colname in df_beta.columns[3:]:\n",
    "    pattern = r'(err|log)_([A-Z][a-z]?)_new'\n",
    "    flag_err, el = re.match(pattern, colname).groups()\n",
    "    col_feh = df_beta.loc[:, 'FeH']\n",
    "    col_efeh = df_beta.loc[:, 'eFeH']\n",
    "    if flag_err is not None:\n",
    "        if colname.startswith('err'):\n",
    "            colname_new = 'e%s'%el\n",
    "            col_elogeps = df_beta.loc[:, colname].values\n",
    "            df_combine.loc[:, colname_new] = col_elogeps\n",
    "        else:\n",
    "            colname_new = el\n",
    "            col_logeps = df_beta.loc[:, colname].values\n",
    "            df_combine.loc[:, colname_new] = col_logeps\n",
    "df_combine.to_csv(datadir/'Data/rproc/logeps.csv', index=False)"
   ]
  },
  {
   "cell_type": "code",
   "execution_count": 45,
   "metadata": {},
   "outputs": [],
   "source": [
    "df_xfe = df_combine.copy()\n",
    "col_logeps = np.array([_ in element_list for _ in df_combine.columns])\n",
    "elnames = df_xfe.columns.values[col_logeps]\n",
    "logeps_data = df_xfe.loc[:, col_logeps].values\n",
    "feh_data = df_xfe.loc[:, 'FeH'].values.reshape(-1, 1)*np.ones(logeps_data.shape[-1])\n",
    "logeps_sun = np.ones(logeps_data.shape[0]).reshape(-1, 1)*sun.log_eps(elnames)\n",
    "xfe_data = logeps_data - feh_data - logeps_sun\n",
    "df_xfe.loc[:, col_logeps] = xfe_data\n",
    "df_xfe.to_csv(datadir/'Data/rproc/XFe.csv', index=False)"
   ]
  },
  {
   "cell_type": "code",
   "execution_count": 46,
   "metadata": {},
   "outputs": [
    {
     "data": {
      "text/plain": [
       "objname    J0804+5740\n",
       "FeH             -2.47\n",
       "eFeH             0.09\n",
       "Li                NaN\n",
       "C               -0.53\n",
       "              ...    \n",
       "eHo               NaN\n",
       "eHf          0.114455\n",
       "eOs          0.188944\n",
       "ePb               NaN\n",
       "eTh               0.2\n",
       "Name: 17, Length: 67, dtype: object"
      ]
     },
     "execution_count": 46,
     "metadata": {},
     "output_type": "execute_result"
    }
   ],
   "source": [
    "df_xfe.loc[17]"
   ]
  },
  {
   "cell_type": "code",
   "execution_count": 54,
   "metadata": {},
   "outputs": [],
   "source": [
    "for idx, row in df_xfe.iterrows():\n",
    "    objname = row.objname\n",
    "    objdata = np.array(row.values[3:], dtype=float)\n",
    "    len_els = len(objdata)//2\n",
    "    obj_el = row.keys()[3:][:len_els]\n",
    "    obj_xfe = objdata[:len_els]\n",
    "    obj_exfe = objdata[len_els:]\n",
    "    flag_detect = ~np.isnan(obj_xfe)\n",
    "    el = obj_el[flag_detect]\n",
    "    xfe = obj_xfe[flag_detect]\n",
    "    exfe = obj_exfe[flag_detect]\n",
    "\n",
    "    stardir = datadir / 'Data/rproc/star'\n",
    "    starpath = stardir / ('%s.dat'%objname)\n",
    "    with open(starpath, 'w') as file:\n",
    "        file.write('10002\\n')\n",
    "        file.write('%s\\n'%(objname))\n",
    "        file.write('%s\\n'%(''))\n",
    "        file.write('%s\\n'%(''))\n",
    "        file.write('3\\n')\n",
    "        file.write('Fe\\n')\n",
    "        file.write('%s\\n'%(len(xfe)))\n",
    "        file.write('%-3s  %5.2f  %5.2f\\n'%('Fe', -2.47, 0.09))\n",
    "        for _el, _xfe, _exfe in zip(el, xfe, exfe):\n",
    "            if _el == 'Fe':\n",
    "                continue\n",
    "            el_line = '%-3s  %5.2f  %5.2f'%(_el, _xfe, _exfe)\n",
    "            file.write('%s\\n'%(el_line))\n",
    "        file.write('As09')"
   ]
  },
  {
   "cell_type": "code",
   "execution_count": null,
   "metadata": {},
   "outputs": [],
   "source": []
  }
 ],
 "metadata": {
  "kernelspec": {
   "display_name": ".venv",
   "language": "python",
   "name": "python3"
  },
  "language_info": {
   "codemirror_mode": {
    "name": "ipython",
    "version": 3
   },
   "file_extension": ".py",
   "mimetype": "text/x-python",
   "name": "python",
   "nbconvert_exporter": "python",
   "pygments_lexer": "ipython3",
   "version": "3.10.12"
  }
 },
 "nbformat": 4,
 "nbformat_minor": 2
}
