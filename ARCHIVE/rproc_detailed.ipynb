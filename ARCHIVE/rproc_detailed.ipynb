{
 "cells": [
  {
   "cell_type": "code",
   "execution_count": 1,
   "metadata": {},
   "outputs": [],
   "source": [
    "import re\n",
    "import pandas as pd\n",
    "import numpy as np\n",
    "from starfit import Single, Multi\n",
    "from pathlib import Path\n",
    "import socket\n",
    "import matplotlib.pyplot as plt\n",
    "from starfit.utils import find_data\n",
    "from starfit.autils.stardb import StarDB\n",
    "from starfit.autils.abusets import SolAbu\n",
    "from astropy import constants as const\n",
    "from astropy import units\n",
    "coeff = (0.6 * (const.G * const.M_sun) / (12e3 * units.m * (const.c)**2)).value\n",
    "\n",
    "import warnings\n",
    "warnings.filterwarnings('ignore', category=RuntimeWarning)\n",
    "\n",
    "hostname = socket.gethostname()\n",
    "if hostname == 'jerome-linux':\n",
    "    datadir = Path('/home/jerome/Documents/GitHub')\n",
    "elif hostname == 'sage2020':\n",
    "    datadir = Path('/home/jiangrz/hdd23')\n",
    "datapath = datadir/Path('Data/rproc/heavy_element_enhanced_stars_write_err.csv')\n",
    "stardir = datadir/Path('Data/rproc/star')\n",
    "lightdir = datadir/Path('Data/Raw/MPs/1_Li/Stars')\n",
    "resdir = Path('result/')\n",
    "df = pd.read_csv(datapath)\n",
    "database = [\n",
    "    'rproc.wu.star.el.y.stardb.xz', \n",
    "    'rproc.just15.star.el.y.stardb.xz', \n",
    "    'nuc.lc18.star.el.y.stardb.xz', \n",
    "    'znuc2012.S4.star.el.y.stardb.gz', \n",
    "]\n",
    "z_exclude_lc18 = np.append(np.arange(43, 54), np.arange(61, 80)).tolist()\n",
    "z_exclude_s4 = [21, 24, 29, 30]"
   ]
  },
  {
   "cell_type": "code",
   "execution_count": 5,
   "metadata": {},
   "outputs": [],
   "source": [
    "def run(dbnames, z_exclude, resfile, constraints, z_min, z_max):\n",
    "    columns = []\n",
    "    properties = ['name', 'FeH', 'N', 'fitness']\n",
    "    freeparams_num = 0\n",
    "    columns.extend([('property', prop) for prop in properties])\n",
    "    for _didx, _dname in enumerate(dbnames):\n",
    "        dbpath = find_data('db', _dname)\n",
    "        _db = StarDB(dbpath, silent=True)\n",
    "        freeparams_num += np.sum(1-_db.fieldflags)\n",
    "        fieldnames = _db.fieldnames\n",
    "        columns.extend([('%d'%_didx, _) for _ in np.append(fieldnames, 'offset')])\n",
    "        df_result = pd.DataFrame(columns=columns)\n",
    "        df_result.columns = pd.MultiIndex.from_tuples(df_result.columns, names=['db_index','fieldname'])\n",
    "\n",
    "    for idx_row, obj_row in df.iterrows():\n",
    "        starname = obj_row.objname.split('.')[0]\n",
    "        starFeH = obj_row.FeH\n",
    "        starpath = stardir/('%s.dat'%(starname))\n",
    "        comb = Single(\n",
    "            starpath, db=dbnames, \n",
    "            constraints=constraints, \n",
    "            z_min=z_min, z_max=z_max, z_exclude=z_exclude, \n",
    "            silent=True\n",
    "        )\n",
    "\n",
    "        starN = comb.star.element_abundances[~comb.exclude_index].shape[0]\n",
    "        dof = starN - freeparams_num - len(dbnames)\n",
    "\n",
    "        starfitn = comb.sorted_fitness[0] / dof\n",
    "        starindices = comb.sorted_stars[0]['index']\n",
    "        staroffsets = comb.sorted_stars[0]['offset']\n",
    "        db_idx = comb.db_idx[starindices]\n",
    "        db_off = comb.db_off\n",
    "        starindices -= db_off\n",
    "        starprop = [starname, starFeH, starN, starfitn]\n",
    "        columndata = starprop\n",
    "        for _db_idx, _staridx, _staroffset in zip(db_idx, starindices, staroffsets):\n",
    "            starfield = list(comb.db[_db_idx].fielddata[_staridx])\n",
    "            stardata = starfield + [_staroffset]\n",
    "            columndata += stardata\n",
    "        df_result.loc[len(df_result)] = columndata\n",
    "        if starfitn < 3:\n",
    "            comb.plot(xlim=(0, 84), ylim=(-5, 2))\n",
    "    df_result.to_csv(resdir/resfile, index=False)"
   ]
  },
  {
   "cell_type": "code",
   "execution_count": 3,
   "metadata": {},
   "outputs": [
    {
     "ename": "NameError",
     "evalue": "name 'z_exclude_lc18' is not defined",
     "output_type": "error",
     "traceback": [
      "\u001b[0;31m---------------------------------------------------------------------------\u001b[0m",
      "\u001b[0;31mNameError\u001b[0m                                 Traceback (most recent call last)",
      "Cell \u001b[0;32mIn[3], line 2\u001b[0m\n\u001b[1;32m      1\u001b[0m dbnames \u001b[38;5;241m=\u001b[39m [\u001b[38;5;124m'\u001b[39m\u001b[38;5;124mnuc.lc18.star.el.y.stardb.xz\u001b[39m\u001b[38;5;124m'\u001b[39m]\n\u001b[0;32m----> 2\u001b[0m z_exclude \u001b[38;5;241m=\u001b[39m [\u001b[38;5;241m1\u001b[39m, \u001b[38;5;241m2\u001b[39m, \u001b[38;5;241m3\u001b[39m, \u001b[38;5;241m6\u001b[39m]\u001b[38;5;241m+\u001b[39m\u001b[43mz_exclude_lc18\u001b[49m\n\u001b[1;32m      3\u001b[0m constraints \u001b[38;5;241m=\u001b[39m \u001b[38;5;124m'\u001b[39m\u001b[38;5;124m0:metallicity<0.1\u001b[39m\u001b[38;5;124m'\u001b[39m\n\u001b[1;32m      4\u001b[0m \u001b[38;5;66;03m# run(dbnames, z_exclude, 'res_lc18_under50.csv', constraints, 3, 50)\u001b[39;00m\n",
      "\u001b[0;31mNameError\u001b[0m: name 'z_exclude_lc18' is not defined"
     ]
    }
   ],
   "source": [
    "dbnames = ['nuc.lc18.star.el.y.stardb.xz']\n",
    "z_exclude = [1, 2, 3, 6]+z_exclude_lc18\n",
    "constraints = '0:metallicity<0.1'\n",
    "# run(dbnames, z_exclude, 'res_lc18_under50.csv', constraints, 3, 50)"
   ]
  },
  {
   "cell_type": "code",
   "execution_count": 2,
   "metadata": {},
   "outputs": [],
   "source": [
    "dbnames = ['rproc.just15.star.el.y.stardb.xz']\n",
    "z_exclude = None\n",
    "constraints = None\n",
    "# run(dbnames, z_exclude, 'res_just_over50.csv', constraints, 51, 85)"
   ]
  },
  {
   "cell_type": "code",
   "execution_count": 1,
   "metadata": {},
   "outputs": [],
   "source": [
    "# dbnames = ['rproc.wu.star.el.y.stardb.xz']\n",
    "# z_exclude = None\n",
    "# constraints = None\n",
    "# run(dbnames, z_exclude, 'res_wu_over50.csv', constraints,  50, 85)"
   ]
  },
  {
   "cell_type": "code",
   "execution_count": 35,
   "metadata": {},
   "outputs": [],
   "source": [
    "df_dict = {\n",
    "    'lc18': pd.read_csv(resdir/'res_lc18_under50.csv', header=[0, 1]), \n",
    "    'just': pd.read_csv(resdir/'res_just_over50.csv', header=[0, 1]),\n",
    "    'wu': pd.read_csv(resdir/'res_wu_over50.csv', header=[0, 1])\n",
    "}\n",
    "fitn_arr = np.ndarray((len(df_dict), len(df)))\n",
    "for idx_arr, key_model in enumerate(['lc18', 'just', 'wu']):\n",
    "    fitn_arr[idx_arr, :] = df_dict[key_model].loc[:, ('property', 'fitness')].values"
   ]
  },
  {
   "cell_type": "code",
   "execution_count": 32,
   "metadata": {},
   "outputs": [
    {
     "name": "stdout",
     "output_type": "stream",
     "text": [
      "NSM_just  :  0\n",
      " []\n",
      "NSM_wu    : 22\n",
      " ['J0003+1556' 'J0041+3633' 'J0127+1100' 'J0643+5934' 'J1109+0754'\n",
      " 'J1208+3954' 'J1218+2838' 'J1226+2323' 'J1236+3424' 'J1341+3255'\n",
      " 'J1414+1457' 'J1423+0322' 'J1459+0444' 'J1523+0714' 'J1612-0207'\n",
      " 'J1634+0206' 'J1640+1550' 'J1641+0334' 'J1730+4143' 'J1833+1309'\n",
      " 'J2159+0308' 'J2216+0246']\n",
      "NSM_justwu:  1\n",
      " ['J0949+2707']\n",
      "rCCSN     :  0\n",
      " []\n",
      "NSM/rCCSN :  0\n",
      " []\n"
     ]
    }
   ],
   "source": [
    "threshold = 1\n",
    "mask = np.any((fitn_arr>threshold, fitn_arr<0), axis=0)\n",
    "fitn_maarr = np.ma.array(fitn_arr, mask=mask)\n",
    "flag_just = np.any(~fitn_maarr.mask[1:2, :], axis=0)\n",
    "flag_wu = np.any(~fitn_maarr.mask[2:, :], axis=0)\n",
    "flag_rotsn = np.any(~fitn_maarr.mask[:1, :], axis=0)\n",
    "flag_onlyjust = flag_just & ~ flag_wu & ~ flag_rotsn\n",
    "flag_onlywu = ~ flag_just & flag_wu & ~ flag_rotsn\n",
    "flag_justwu = flag_just & flag_wu & ~ flag_rotsn\n",
    "flag_onlyrotsn = ~ flag_just & ~ flag_wu & flag_rotsn\n",
    "flag_all = (flag_just | flag_wu) & flag_rotsn\n",
    "objnames = df_dict['lc18'].loc[:, ('property', 'name')].values\n",
    "print('NSM_just  :%3d\\n'%np.sum(flag_onlyjust), objnames[flag_onlyjust])\n",
    "print('NSM_wu    :%3d\\n'%np.sum(flag_onlywu), objnames[flag_onlywu])\n",
    "print('NSM_justwu:%3d\\n'%np.sum(flag_justwu), objnames[flag_justwu])\n",
    "print('rCCSN     :%3d\\n'%np.sum(flag_onlyrotsn), objnames[flag_onlyrotsn])\n",
    "print('NSM/rCCSN :%3d\\n'%np.sum(flag_all), objnames[flag_all])"
   ]
  },
  {
   "cell_type": "code",
   "execution_count": 36,
   "metadata": {},
   "outputs": [
    {
     "name": "stdout",
     "output_type": "stream",
     "text": [
      "NSM_just  :  2\n",
      " ['J1020+4046' 'J2333+0505']\n",
      "NSM_wu    : 52\n",
      " ['J0003+1556' 'J0040+2729' 'J0041+3633' 'J0055+1857' 'J0124+0458'\n",
      " 'J0127+1100' 'J0302+1356' 'J0405+2141' 'J0446+2124' 'J0554+5235'\n",
      " 'J0643+5934' 'J0804+5740' 'J0934-0108' 'J0948+0000' 'J1044+3713'\n",
      " 'J1059+0208' 'J1101+2031' 'J1122+1223' 'J1145+0359' 'J1207+2244'\n",
      " 'J1208+3954' 'J1218+2838' 'J1221+0907' 'J1225-0452' 'J1226+2323'\n",
      " 'J1236+3424' 'J1250-0307' 'J1345+0513' 'J1352+2646' 'J1400+1215'\n",
      " 'J1413+1727' 'J1414+1457' 'J1414+1721' 'J1423+0322' 'J1459+0444'\n",
      " 'J1501+3445' 'J1516+0442' 'J1518+2544' 'J1520+5500' 'J1523+0714'\n",
      " 'J1604+1305' 'J1612-0207' 'J1634+0206' 'J1640+1550' 'J1657+3443'\n",
      " 'J1717+2449' 'J1719+1358' 'J1730+4143' 'J1745+5410' 'J1833+1309'\n",
      " 'J2216+0246' 'J2347+2851']\n",
      "NSM_justwu:  4\n",
      " ['J0949+2707' 'J1109+0754' 'J1158+0734' 'J2159+0308']\n",
      "rCCSN     :  0\n",
      " []\n",
      "NSM/rCCSN :  5\n",
      " ['J0711+3538' 'J1341+3255' 'J1641+0334' 'J1650+4313' 'J1702+1732']\n"
     ]
    }
   ],
   "source": [
    "threshold = 3\n",
    "mask = np.any((fitn_arr>threshold, fitn_arr<0), axis=0)\n",
    "fitn_maarr = np.ma.array(fitn_arr, mask=mask)\n",
    "flag_just = np.any(~fitn_maarr.mask[1:2, :], axis=0)\n",
    "flag_wu = np.any(~fitn_maarr.mask[2:, :], axis=0)\n",
    "flag_rotsn = np.any(~fitn_maarr.mask[:1, :], axis=0)\n",
    "flag_onlyjust = flag_just & ~ flag_wu & ~ flag_rotsn\n",
    "flag_onlywu = ~ flag_just & flag_wu & ~ flag_rotsn\n",
    "flag_justwu = flag_just & flag_wu & ~ flag_rotsn\n",
    "flag_onlyrotsn = ~ flag_just & ~ flag_wu & flag_rotsn\n",
    "flag_all = (flag_just | flag_wu) & flag_rotsn\n",
    "objnames = df_dict['lc18'].loc[:, ('property', 'name')].values\n",
    "print('NSM_just  :%3d\\n'%np.sum(flag_onlyjust), objnames[flag_onlyjust])\n",
    "print('NSM_wu    :%3d\\n'%np.sum(flag_onlywu), objnames[flag_onlywu])\n",
    "print('NSM_justwu:%3d\\n'%np.sum(flag_justwu), objnames[flag_justwu])\n",
    "print('rCCSN     :%3d\\n'%np.sum(flag_onlyrotsn), objnames[flag_onlyrotsn])\n",
    "print('NSM/rCCSN :%3d\\n'%np.sum(flag_all), objnames[flag_all])"
   ]
  },
  {
   "cell_type": "code",
   "execution_count": null,
   "metadata": {},
   "outputs": [],
   "source": []
  }
 ],
 "metadata": {
  "kernelspec": {
   "display_name": ".venv",
   "language": "python",
   "name": "python3"
  },
  "language_info": {
   "codemirror_mode": {
    "name": "ipython",
    "version": 3
   },
   "file_extension": ".py",
   "mimetype": "text/x-python",
   "name": "python",
   "nbconvert_exporter": "python",
   "pygments_lexer": "ipython3",
   "version": "3.10.12"
  }
 },
 "nbformat": 4,
 "nbformat_minor": 2
}
