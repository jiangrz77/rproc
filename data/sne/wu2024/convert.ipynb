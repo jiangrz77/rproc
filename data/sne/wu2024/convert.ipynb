{
 "cells": [
  {
   "cell_type": "code",
   "execution_count": 1,
   "metadata": {},
   "outputs": [],
   "source": [
    "import re\n",
    "import numpy as np\n",
    "import pandas as pd\n",
    "import sys\n",
    "sys.path.append('../../..')\n",
    "from util import isotope, read_refdata\n",
    "\n",
    "mfrac_sol, nfrac_sol = read_refdata('/home/jiangrz/ssd/GitHub/rproc/data/ref/sol_asplund09.dat')\n",
    "datapath = '/home/jiangrz/ssd/GitHub/rproc/data/sne/wu2024/collapsar_average_yz.txt'\n",
    "wrtiepath = '/home/jiangrz/ssd/GitHub/rproc/data/sne/wu2024/collapsar.txt'\n",
    "\n",
    "with open(datapath, 'r') as rfile:\n",
    "    spltlines = rfile.read().splitlines()\n",
    "    \n",
    "with open(wrtiepath, 'w') as wfile:\n",
    "    for line in spltlines[1:]:\n",
    "        Z, Yi = line.split()\n",
    "        Z = int(Z)\n",
    "        if Z < 1:\n",
    "            continue\n",
    "        try:\n",
    "            El = isotope(Z)\n",
    "            Yi = float(Yi)\n",
    "            new_line = '%-5s%.6E\\n'%(El.symbol, Yi)\n",
    "            wfile.write(new_line)\n",
    "        except ValueError:\n",
    "            continue"
   ]
  },
  {
   "cell_type": "code",
   "execution_count": null,
   "metadata": {},
   "outputs": [],
   "source": []
  }
 ],
 "metadata": {
  "kernelspec": {
   "display_name": ".venv",
   "language": "python",
   "name": "python3"
  },
  "language_info": {
   "codemirror_mode": {
    "name": "ipython",
    "version": 3
   },
   "file_extension": ".py",
   "mimetype": "text/x-python",
   "name": "python",
   "nbconvert_exporter": "python",
   "pygments_lexer": "ipython3",
   "version": "3.10.12"
  }
 },
 "nbformat": 4,
 "nbformat_minor": 2
}
