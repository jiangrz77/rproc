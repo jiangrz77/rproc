{
 "cells": [
  {
   "cell_type": "code",
   "execution_count": 1,
   "metadata": {},
   "outputs": [
    {
     "name": "stdout",
     "output_type": "stream",
     "text": [
      "\n",
      "Warning: LaTeX installation not found.Reverting to use of 'mathtext' for plots.\n",
      "\n",
      "\n",
      "Warning: dvipng installation not found.Reverting to use of 'mathtext' for plots.\n",
      "\n"
     ]
    }
   ],
   "source": [
    "import os\n",
    "import numpy as np\n",
    "import pandas as pd\n",
    "from matplotlib import colormaps as cmap\n",
    "from starfit import DB\n",
    "from starfit.autils.stardb import StarDB\n",
    "from starfit.autils.abusets import SolAbu\n",
    "from starfit.utils import find_data\n",
    "\n",
    "import matplotlib.pyplot as plt\n",
    "from pathlib import Path\n",
    "\n",
    "symbol_list = [\n",
    "    'h',  'he', 'li', 'be', 'b',  'c',  'n',   'o',  'f', 'ne', \n",
    "    'na', 'mg', 'al', 'si', 'p',  's',  'cl', 'ar',  'k', 'ca',\n",
    "    'sc', 'ti', 'v',  'cr', 'mn', 'fe', 'co', 'ni', 'cu', 'zn',\n",
    "    'ga', 'ge', 'as', 'se', 'br', 'kr', 'rb', 'sr',  'y', 'zr',\n",
    "    'nb', 'mo', 'tc', 'ru', 'rh', 'pd', 'ag', 'cd', 'in', 'sn', \n",
    "    'sb', 'te', 'i',  'xe', 'cs', 'ba', 'la', 'ce', 'pr', 'nd', \n",
    "    'pm', 'sm', 'eu', 'gd', 'tb', 'dy', 'ho', 'er', 'tm', 'yb', \n",
    "    'lu', 'hf', 'ta', 'w',  're', 'os', 'ir', 'pt', 'au', 'hg', \n",
    "    'tl', 'pb', 'bi', 'po', 'at', 'rn', 'fr', 'ra', 'ac', 'th', \n",
    "    'pa', 'u'\n",
    "]"
   ]
  },
  {
   "cell_type": "code",
   "execution_count": 14,
   "metadata": {},
   "outputs": [],
   "source": [
    "db = 'znuc_lc12.el.y.stardb.xz'\n",
    "dbpath = find_data(DB, db)\n",
    "db = StarDB(dbpath, silent=True)\n",
    "sun = SolAbu('solas09.dat', silent=True)\n",
    "raw_fielddata = db.fielddata\n",
    "raw_fieldname = db.fieldnames#[db.fieldflags==0]\n",
    "raw_model_abund = db.data\n",
    "raw_element = [_ion.name().capitalize() for _ion in db.ions]\n",
    "model_logeps_df = pd.DataFrame(columns=symbol_list)\n",
    "fielddata_df = pd.DataFrame(columns=raw_fieldname)\n",
    "for _abu, _el in zip(raw_model_abund.T, raw_element):\n",
    "    if _el in symbol_list:\n",
    "        model_logeps_df[_el] = np.log10(\n",
    "            _abu, where=_abu>0, \n",
    "            out=np.full(len(_abu), np.nan))\n",
    "for _fieldname in raw_fieldname:\n",
    "    fielddata_df[_fieldname] = raw_fielddata[_fieldname]"
   ]
  },
  {
   "cell_type": "code",
   "execution_count": 19,
   "metadata": {},
   "outputs": [
    {
     "data": {
      "text/plain": [
       "(8, 42)"
      ]
     },
     "execution_count": 19,
     "metadata": {},
     "output_type": "execute_result"
    }
   ],
   "source": [
    "raw_model_abund.shape"
   ]
  },
  {
   "cell_type": "code",
   "execution_count": null,
   "metadata": {},
   "outputs": [],
   "source": []
  },
  {
   "cell_type": "code",
   "execution_count": 16,
   "metadata": {},
   "outputs": [
    {
     "data": {
      "text/html": [
       "<div>\n",
       "<style scoped>\n",
       "    .dataframe tbody tr th:only-of-type {\n",
       "        vertical-align: middle;\n",
       "    }\n",
       "\n",
       "    .dataframe tbody tr th {\n",
       "        vertical-align: top;\n",
       "    }\n",
       "\n",
       "    .dataframe thead th {\n",
       "        text-align: right;\n",
       "    }\n",
       "</style>\n",
       "<table border=\"1\" class=\"dataframe\">\n",
       "  <thead>\n",
       "    <tr style=\"text-align: right;\">\n",
       "      <th></th>\n",
       "      <th>h</th>\n",
       "      <th>he</th>\n",
       "      <th>li</th>\n",
       "      <th>be</th>\n",
       "      <th>b</th>\n",
       "      <th>c</th>\n",
       "      <th>n</th>\n",
       "      <th>o</th>\n",
       "      <th>f</th>\n",
       "      <th>ne</th>\n",
       "      <th>...</th>\n",
       "      <th>bi</th>\n",
       "      <th>po</th>\n",
       "      <th>at</th>\n",
       "      <th>rn</th>\n",
       "      <th>fr</th>\n",
       "      <th>ra</th>\n",
       "      <th>ac</th>\n",
       "      <th>th</th>\n",
       "      <th>pa</th>\n",
       "      <th>u</th>\n",
       "    </tr>\n",
       "  </thead>\n",
       "  <tbody>\n",
       "  </tbody>\n",
       "</table>\n",
       "<p>0 rows × 92 columns</p>\n",
       "</div>"
      ],
      "text/plain": [
       "Empty DataFrame\n",
       "Columns: [h, he, li, be, b, c, n, o, f, ne, na, mg, al, si, p, s, cl, ar, k, ca, sc, ti, v, cr, mn, fe, co, ni, cu, zn, ga, ge, as, se, br, kr, rb, sr, y, zr, nb, mo, tc, ru, rh, pd, ag, cd, in, sn, sb, te, i, xe, cs, ba, la, ce, pr, nd, pm, sm, eu, gd, tb, dy, ho, er, tm, yb, lu, hf, ta, w, re, os, ir, pt, au, hg, tl, pb, bi, po, at, rn, fr, ra, ac, th, pa, u]\n",
       "Index: []\n",
       "\n",
       "[0 rows x 92 columns]"
      ]
     },
     "execution_count": 16,
     "metadata": {},
     "output_type": "execute_result"
    }
   ],
   "source": [
    "model_logeps_df"
   ]
  },
  {
   "cell_type": "code",
   "execution_count": 20,
   "metadata": {},
   "outputs": [],
   "source": [
    "\n",
    "# M_ccsn = np.array(model_logeps_df.values).astype(float)\n",
    "# P_ccsn = np.array(fielddata_df.values[:, :]).astype(float)\n",
    "# P_ccsn[:, 2] = np.log10(P_ccsn[:, 2], where=P_ccsn[:, 2]>0, out=-3.2*np.ones(P_ccsn.shape[0]))\n",
    "\n",
    "# for _P, _M in zip(P_ccsn, raw_model_abund):\n",
    "#     string_property = '%04d%03d%03d%06d'%(_P[0]*10, _P[1]*10, _P[2]*10, _P[3]*1000)\n",
    "#     with open('/home/jiangrz/ssd/GitHub/rproc/data/sne/hw2010/%s.dat'%string_property, 'w') as file:\n",
    "#         for _symbol, _yield in zip(symbol_list, _M):\n",
    "#             file.write('%-5s%.8E\\n'%(_symbol, _yield))"
   ]
  }
 ],
 "metadata": {
  "kernelspec": {
   "display_name": ".venv",
   "language": "python",
   "name": "python3"
  },
  "language_info": {
   "codemirror_mode": {
    "name": "ipython",
    "version": 3
   },
   "file_extension": ".py",
   "mimetype": "text/x-python",
   "name": "python",
   "nbconvert_exporter": "python",
   "pygments_lexer": "ipython3",
   "version": "3.10.12"
  }
 },
 "nbformat": 4,
 "nbformat_minor": 2
}
