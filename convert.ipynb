{
 "cells": [
  {
   "cell_type": "code",
   "execution_count": 24,
   "metadata": {},
   "outputs": [
    {
     "name": "stderr",
     "output_type": "stream",
     "text": [
      "/tmp/ipykernel_2742061/2066082320.py:12: RuntimeWarning: divide by zero encountered in log10\n",
      "  XH_sol = np.log10(nfrac)\n"
     ]
    }
   ],
   "source": [
    "import numpy as np\n",
    "from pathlib import Path\n",
    "from util import read_refdata, isotope\n",
    "# for path in Path('.').iterdir():\n",
    "# path = Path('L1.25.dat')\n",
    "# if path.suffix != '.dat':\n",
    "#     continue\n",
    "path = Path('/home/jiangrz/ssd/GitHub/rproc/data/sne/bisterzo2010/30ST1.dat')\n",
    "with open(path, 'r') as file:\n",
    "    spltlines = file.read().splitlines()\n",
    "mfrac, nfrac = read_refdata('/home/jiangrz/ssd/GitHub/rproc/data/ref/sol_asplund09.dat')\n",
    "XH_sol = np.log10(nfrac)\n",
    "XH_sol += (-XH_sol[0]+12)\n",
    "with open('p.dat', 'w') as file:\n",
    "    feh = -float(path.stem[:2])/10\n",
    "    for line in spltlines:\n",
    "        if line.startswith('#'):\n",
    "            continue\n",
    "        name, xfe = line.split()\n",
    "        xfe = float(xfe)\n",
    "        iso = isotope(name)\n",
    "        xh_sol = XH_sol[iso.Z-1]\n",
    "        xh = xfe + feh\n",
    "        nfrac = np.power(10, xh+xh_sol-12)\n",
    "        new_line = '%-5s%.6E\\n'%(name, nfrac)\n",
    "        file.write(new_line)\n",
    "        # break"
   ]
  },
  {
   "cell_type": "code",
   "execution_count": null,
   "metadata": {},
   "outputs": [],
   "source": []
  }
 ],
 "metadata": {
  "kernelspec": {
   "display_name": ".venv",
   "language": "python",
   "name": "python3"
  },
  "language_info": {
   "codemirror_mode": {
    "name": "ipython",
    "version": 3
   },
   "file_extension": ".py",
   "mimetype": "text/x-python",
   "name": "python",
   "nbconvert_exporter": "python",
   "pygments_lexer": "ipython3",
   "version": "3.10.12"
  }
 },
 "nbformat": 4,
 "nbformat_minor": 2
}
