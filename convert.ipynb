{
 "cells": [
  {
   "cell_type": "code",
   "execution_count": 25,
   "metadata": {},
   "outputs": [],
   "source": [
    "import os\n",
    "import numpy as np\n",
    "import pandas as pd\n",
    "from matplotlib import colormaps as cmap\n",
    "from starfit import DB\n",
    "from starfit.autils.stardb import StarDB\n",
    "from starfit.autils.abusets import SolAbu\n",
    "from starfit.utils import find_data\n",
    "\n",
    "import matplotlib.pyplot as plt\n",
    "from pathlib import Path\n",
    "\n",
    "symbol_list = [\n",
    "    'h',  'he', 'li', 'be', 'b',  'c',  'n',   'o',  'f', 'ne', \n",
    "    'na', 'mg', 'al', 'si', 'p',  's',  'cl', 'ar',  'k', 'ca',\n",
    "    'sc', 'ti', 'v',  'cr', 'mn', 'fe', 'co', 'ni', 'cu', 'zn',\n",
    "    'ga', 'ge', 'as', 'se', 'br', 'kr', 'rb', 'sr',  'y', 'zr',\n",
    "    'nb', 'mo', 'tc', 'ru', 'rh', 'pd', 'ag', 'cd', 'in', 'sn', \n",
    "    'sb', 'te', 'i',  'xe', 'cs', 'ba', 'la', 'ce', 'pr', 'nd', \n",
    "    'pm', 'sm', 'eu', 'gd', 'tb', 'dy', 'ho', 'er', 'tm', 'yb', \n",
    "    'lu', 'hf', 'ta', 'w',  're', 'os', 'ir', 'pt', 'au', 'hg', \n",
    "    'tl', 'pb', 'bi', 'po', 'at', 'rn', 'fr', 'ra', 'ac', 'th', \n",
    "    'pa', 'u'\n",
    "]\n",
    "\n",
    "db = 'znuc2012.S4.star.el.y.stardb.gz'\n",
    "dbpath = find_data(DB, db)\n",
    "db = StarDB(dbpath, silent=True)\n",
    "sun = SolAbu('solas09.dat', silent=True)\n",
    "raw_fielddata = db.fielddata\n",
    "raw_fieldname = db.fieldnames#[db.fieldflags==0]\n",
    "raw_model_abund = db.data\n",
    "raw_element = [_ion.name().capitalize() for _ion in db.ions]\n",
    "element_list_abvC = symbol_list\n",
    "model_logeps_df = pd.DataFrame(columns=element_list_abvC)\n",
    "fielddata_df = pd.DataFrame(columns=raw_fieldname)\n",
    "for _abu, _el in zip(raw_model_abund.T, raw_element):\n",
    "    if _el in element_list_abvC:\n",
    "        model_logeps_df[_el] = np.log10(\n",
    "            _abu, where=_abu>0, \n",
    "            out=np.full(len(_abu), np.nan))\n",
    "for _fieldname in raw_fieldname:\n",
    "    fielddata_df[_fieldname] = raw_fielddata[_fieldname]\n",
    "maxns = 2.0\n",
    "# fielddata_df = fielddata_df.loc[fielddata_df.loc[:, 'remnant']<=maxns, :]\n",
    "M_ccsn = np.array(model_logeps_df.values).astype(float)\n",
    "P_ccsn = np.array(fielddata_df.values[:, :-1]).astype(float)\n",
    "P_ccsn[:, -1] = np.log10(P_ccsn[:, -1], where=P_ccsn[:, -1]>0, out=-3.2*np.ones(P_ccsn.shape[0]))\n",
    "\n",
    "for _P, _M in zip(P_ccsn, raw_model_abund):\n",
    "    string_property = '%04d%03d%03d'%(_P[0]*10, _P[1]*10, _P[2]*10)\n",
    "#     with open('/home/jiangrz/ssd/GitHub/rproc/data/sne/hw2010/%s.dat'%string_property, 'w') as file:\n",
    "#         for _symbol, _yield in zip(symbol_list, _M):\n",
    "#             file.write('%-5s%.8E\\n'%(_symbol, _yield))"
   ]
  },
  {
   "cell_type": "code",
   "execution_count": null,
   "metadata": {},
   "outputs": [],
   "source": []
  }
 ],
 "metadata": {
  "kernelspec": {
   "display_name": ".venv",
   "language": "python",
   "name": "python3"
  },
  "language_info": {
   "codemirror_mode": {
    "name": "ipython",
    "version": 3
   },
   "file_extension": ".py",
   "mimetype": "text/x-python",
   "name": "python",
   "nbconvert_exporter": "python",
   "pygments_lexer": "ipython3",
   "version": "3.10.12"
  }
 },
 "nbformat": 4,
 "nbformat_minor": 2
}
