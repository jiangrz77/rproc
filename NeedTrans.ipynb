{
 "cells": [
  {
   "cell_type": "code",
   "execution_count": 1,
   "metadata": {},
   "outputs": [],
   "source": [
    "import numpy as np\n",
    "import pandas as pd\n",
    "from util import symbol_list"
   ]
  },
  {
   "cell_type": "code",
   "execution_count": 2,
   "metadata": {},
   "outputs": [],
   "source": [
    "CS30315_raw = pd.read_csv('CS30315_TransNew.csv')\n",
    "CS30315_el = CS30315_raw.loc[1:, 'Element'].values\n",
    "CS30315_logeps = CS30315_raw.loc[1:, 'A(X)'].values\n",
    "CS30315_elogeps = CS30315_raw.loc[1:, 'Δfinal'].values\n",
    "J0804_raw = pd.read_csv('J0804+5740.csv')\n",
    "J0804_el = J0804_raw.loc[0, 'C':'eC'].index[:-1]\n",
    "J0804_logeps = J0804_raw.loc[0, 'C':'eC'].values[:-1]\n",
    "J0804_elogeps = J0804_raw.loc[0, 'eC':].values"
   ]
  },
  {
   "cell_type": "code",
   "execution_count": 3,
   "metadata": {},
   "outputs": [],
   "source": [
    "df_logeps = pd.DataFrame(columns=['starname']+symbol_list)\n",
    "df_index = len(df_logeps)\n",
    "df_logeps.loc[df_index, J0804_el] = J0804_logeps\n",
    "df_logeps.loc[df_index, 'starname'] = 'J0804+5740'\n",
    "df_index = len(df_logeps)\n",
    "df_logeps.loc[df_index, CS30315_el] = CS30315_logeps\n",
    "df_logeps.loc[df_index, 'starname'] = 'CS 30315-029'"
   ]
  },
  {
   "cell_type": "code",
   "execution_count": 4,
   "metadata": {},
   "outputs": [],
   "source": [
    "df_elogeps = pd.DataFrame(columns=['starname']+symbol_list)\n",
    "df_index = len(df_elogeps)\n",
    "df_elogeps.loc[df_index, J0804_el] = J0804_elogeps\n",
    "df_elogeps.loc[df_index, 'starname'] = 'J0804+5740'\n",
    "df_index = len(df_elogeps)\n",
    "df_elogeps.loc[df_index, CS30315_el] = CS30315_elogeps\n",
    "df_elogeps.loc[df_index, 'starname'] = 'CS 30315-029'"
   ]
  },
  {
   "cell_type": "code",
   "execution_count": 5,
   "metadata": {},
   "outputs": [],
   "source": [
    "df_logeps.to_csv('J0804_CS30315_logeps.csv', index=False)\n",
    "df_elogeps.to_csv('J0804_CS30315_elogeps.csv', index=False)"
   ]
  },
  {
   "cell_type": "code",
   "execution_count": null,
   "metadata": {},
   "outputs": [],
   "source": []
  }
 ],
 "metadata": {
  "kernelspec": {
   "display_name": ".venv",
   "language": "python",
   "name": "python3"
  },
  "language_info": {
   "codemirror_mode": {
    "name": "ipython",
    "version": 3
   },
   "file_extension": ".py",
   "mimetype": "text/x-python",
   "name": "python",
   "nbconvert_exporter": "python",
   "pygments_lexer": "ipython3",
   "version": "3.10.12"
  }
 },
 "nbformat": 4,
 "nbformat_minor": 2
}
